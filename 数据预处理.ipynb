{
 "cells": [
  {
   "cell_type": "markdown",
   "id": "0a175846",
   "metadata": {},
   "source": [
    "# 读取数据集 #"
   ]
  },
  {
   "cell_type": "markdown",
   "id": "aadaab63",
   "metadata": {},
   "source": [
    "举例子，我们先创建一个人工数据集，并且存储在csv文件../data/house_tiny.csv中。  \n",
    "下面我们将数据集按行写入csv文件"
   ]
  },
  {
   "cell_type": "code",
   "execution_count": 3,
   "id": "cb6fc7c4",
   "metadata": {},
   "outputs": [],
   "source": [
    "import os\n",
    "\n",
    "os.makedirs(os.path.join('..','data'),exist_ok=True)\n",
    "data_file=os.path.join('..','data','house_tiny,scv')\n",
    "with open(data_file,'w') as f:\n",
    "    f.write('NumRooms,Alley,Price\\n')#别名\n",
    "    f.write('NA,Pave,127500\\n')#每行表示一个数据样本\n",
    "    f.write('2,NA,106000\\n')\n",
    "    f.write('4,NA,178100\\n')\n",
    "    f.write('NA,NA,140000\\n')"
   ]
  },
  {
   "cell_type": "markdown",
   "id": "9c76c1ce",
   "metadata": {},
   "source": [
    "要从创建的csv中加载原始数据集，我们导入pandas包并且调用read_csv函数。  \n",
    "数据集有4行3列，每行描述了房间数量，巷子类型，和房屋价格"
   ]
  },
  {
   "cell_type": "code",
   "execution_count": 8,
   "id": "3b203505",
   "metadata": {},
   "outputs": [
    {
     "name": "stdout",
     "output_type": "stream",
     "text": [
      "   NumRooms Alley   Price\n",
      "0       NaN  Pave  127500\n",
      "1       2.0   NaN  106000\n",
      "2       4.0   NaN  178100\n",
      "3       NaN   NaN  140000\n"
     ]
    }
   ],
   "source": [
    "import pandas as pd\n",
    "\n",
    "\n",
    "\n",
    "data=pd.read_csv(data_file)\n",
    "print(data)"
   ]
  },
  {
   "cell_type": "markdown",
   "id": "b31208b4",
   "metadata": {},
   "source": [
    "# 处理缺失值 #\n"
   ]
  },
  {
   "cell_type": "markdown",
   "id": "3a7ab30b",
   "metadata": {},
   "source": [
    "有2种方法，插值法和删除法，其中插值法是用一个替代值来弥补缺失值，而删除法直接忽略缺失值，这里考虑插值"
   ]
  },
  {
   "cell_type": "markdown",
   "id": "6da1fd9f",
   "metadata": {},
   "source": [
    "通过位置索引iloc，我们将data分成inputs和outputs，前者为data前两项，后者为data最后一项，对于inputs缺失值，我们用同一列均值替换NaN项。"
   ]
  },
  {
   "cell_type": "code",
   "execution_count": 12,
   "id": "f3c9d4fc",
   "metadata": {
    "scrolled": true
   },
   "outputs": [
    {
     "name": "stdout",
     "output_type": "stream",
     "text": [
      "   NumRooms Alley\n",
      "0       3.0  Pave\n",
      "1       2.0   NaN\n",
      "2       4.0   NaN\n",
      "3       3.0   NaN\n"
     ]
    }
   ],
   "source": [
    "inputs,outputs=data.iloc[:,0:2],data.iloc[:,2]\n",
    "inputs = inputs.fillna(inputs.mean(numeric_only=True))\n",
    "print(inputs)"
   ]
  },
  {
   "cell_type": "markdown",
   "id": "b9bed385",
   "metadata": {},
   "source": [
    "对于inputs中类别值或离散值，我们将NaN视为一个类别，由于Akkey列只接受两种类型的类别值Pave和NaN，pandas可以自动将此列转换为两列Alley_Pave和Alley_nan。alley列为Pave的行会把Alley_Pave值设为1，Alley_nan值设为0，而缺少Alley列的行会正好相反"
   ]
  },
  {
   "cell_type": "code",
   "execution_count": 20,
   "id": "7dc54c88",
   "metadata": {},
   "outputs": [
    {
     "name": "stdout",
     "output_type": "stream",
     "text": [
      "   NumRooms  Alley_Pave  Alley_nan\n",
      "0       3.0           1          0\n",
      "1       2.0           0          1\n",
      "2       4.0           0          1\n",
      "3       3.0           0          1\n"
     ]
    }
   ],
   "source": [
    "inputs=pd.get_dummies(inputs,dummy_na=True)\n",
    "inputs*=1#get_dummies热编码生成布尔值，需要把布尔值转成int类型如下\n",
    "print(inputs)"
   ]
  },
  {
   "cell_type": "markdown",
   "id": "37743cb5",
   "metadata": {},
   "source": [
    "# 转换为张量格式 #"
   ]
  },
  {
   "cell_type": "markdown",
   "id": "c9e82fc4",
   "metadata": {},
   "source": [
    "现在inputs跟outputs所有条目都是数值类型，它们可以转换为张量格式。换成张量格式后可以进一步操作。"
   ]
  },
  {
   "cell_type": "code",
   "execution_count": 21,
   "id": "e84b7e4b",
   "metadata": {},
   "outputs": [
    {
     "data": {
      "text/plain": [
       "(tensor([[3., 1., 0.],\n",
       "         [2., 0., 1.],\n",
       "         [4., 0., 1.],\n",
       "         [3., 0., 1.]], dtype=torch.float64),\n",
       " tensor([127500, 106000, 178100, 140000]))"
      ]
     },
     "execution_count": 21,
     "metadata": {},
     "output_type": "execute_result"
    }
   ],
   "source": [
    "import torch\n",
    "x,y=torch.tensor(inputs.values),torch.tensor(outputs.values)\n",
    "x,y"
   ]
  }
 ],
 "metadata": {
  "kernelspec": {
   "display_name": "Python 3 (ipykernel)",
   "language": "python",
   "name": "python3"
  },
  "language_info": {
   "codemirror_mode": {
    "name": "ipython",
    "version": 3
   },
   "file_extension": ".py",
   "mimetype": "text/x-python",
   "name": "python",
   "nbconvert_exporter": "python",
   "pygments_lexer": "ipython3",
   "version": "3.11.4"
  }
 },
 "nbformat": 4,
 "nbformat_minor": 5
}
