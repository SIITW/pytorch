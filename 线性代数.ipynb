{
 "cells": [
  {
   "cell_type": "markdown",
   "id": "fd073d3c",
   "metadata": {},
   "source": [
    "# 标量 #"
   ]
  },
  {
   "cell_type": "markdown",
   "id": "317aa062",
   "metadata": {},
   "source": [
    "严格来说，仅仅包含一个数值被称为标量，和它相反的叫做变量。  \n",
    "本书中标量变量由普通小写字母表示（如x,y,z）。R表示所有连续实数标量空间，之后将严格定义空间。  \n",
    "x∈R是表示x是一个实数标量的正式形式。x是一个实数标量的正式形式。  \n",
    "标量由只有一个元素的张量表示。"
   ]
  },
  {
   "cell_type": "code",
   "execution_count": 2,
   "id": "b7a8a474",
   "metadata": {},
   "outputs": [
    {
     "data": {
      "text/plain": [
       "(tensor(5.), tensor(6.), tensor(1.5000), tensor(9.))"
      ]
     },
     "execution_count": 2,
     "metadata": {},
     "output_type": "execute_result"
    }
   ],
   "source": [
    "import torch\n",
    "\n",
    "x=torch.tensor(3.0)\n",
    "y=torch.tensor(2.0)\n",
    "\n",
    "x+y,x*y,x/y,x**y"
   ]
  },
  {
   "cell_type": "markdown",
   "id": "f6e6e5c5",
   "metadata": {},
   "source": [
    "# 向量 #"
   ]
  },
  {
   "cell_type": "markdown",
   "id": "647342be",
   "metadata": {},
   "source": [
    "向量可以被视为标量值组成的列表。这些标量值被称为向量的元素或者分量。当向量表示数据集中的样本时，它们的值有一定意义。在数学表示法中，向量通常是小写，粗体的符号，如**x**.**y**和**z**。  \n",
    "在数学上，具有一个轴的张量表示向量，一般向量可以具有任意长度，这取决于机器的内存大小。"
   ]
  },
  {
   "cell_type": "code",
   "execution_count": 3,
   "id": "fcb98788",
   "metadata": {},
   "outputs": [
    {
     "data": {
      "text/plain": [
       "tensor([0, 1, 2, 3])"
      ]
     },
     "execution_count": 3,
     "metadata": {},
     "output_type": "execute_result"
    }
   ],
   "source": [
    "x=torch.arange(4)\n",
    "x"
   ]
  },
  {
   "cell_type": "markdown",
   "id": "798ae86a",
   "metadata": {},
   "source": [
    "我们可以用下标来引用向量的任一元素，例如可以通过$x_i$来引用第i个元素。注意，因为元素$x_i$是标量，所以我们引用的时候不用粗体，一般认为列向量是 向量默认方向。数学中，向量**x**可以写成  \n",
    "$$\n",
    "\\begin{aligned}\n",
    "x=\n",
    "    \\begin{bmatrix}\n",
    "\tx_{1} \\\\\n",
    "\tx_{2}\\\\\n",
    "\t\\vdots&\\\\\n",
    "\tx_{n}\n",
    "\t\\end{bmatrix}\n",
    "\\end{aligned}\n",
    "$$\n",
    "\n",
    "其中，$x_1$,$x_2$,···，$x_n$是向量的元素，我们可以通过张量索引来访问任意一个元素\n"
   ]
  },
  {
   "cell_type": "code",
   "execution_count": 5,
   "id": "e0a14af1",
   "metadata": {},
   "outputs": [
    {
     "data": {
      "text/plain": [
       "tensor(3)"
      ]
     },
     "execution_count": 5,
     "metadata": {},
     "output_type": "execute_result"
    }
   ],
   "source": [
    "x[3]"
   ]
  },
  {
   "cell_type": "markdown",
   "id": "c5486661",
   "metadata": {},
   "source": [
    "###### 长度.维度和形状 ######"
   ]
  },
  {
   "cell_type": "markdown",
   "id": "b4b5d526",
   "metadata": {},
   "source": [
    "向量只是一个数学数组，它跟其他数组一样，也是有长度的。如果我们想表示一个向量由n个实数标量组成，可表示为**x** $\\in$  $\\mathbb{R}^n$。向量长度通常称为维度。  \n",
    "它与普通python数组一个样，也可以调用内置函数len来访问长度。"
   ]
  },
  {
   "cell_type": "code",
   "execution_count": 4,
   "id": "931cc245",
   "metadata": {},
   "outputs": [
    {
     "data": {
      "text/plain": [
       "4"
      ]
     },
     "execution_count": 4,
     "metadata": {},
     "output_type": "execute_result"
    }
   ],
   "source": [
    "len(x)"
   ]
  },
  {
   "cell_type": "markdown",
   "id": "81dc21c4",
   "metadata": {},
   "source": [
    "当用张量（单轴）表示一个向量时，可通过.shape访问向量长度。形状是一个元素组，列出张量沿每个轴长度（维数）。"
   ]
  }
 ],
 "metadata": {
  "kernelspec": {
   "display_name": "Python 3 (ipykernel)",
   "language": "python",
   "name": "python3"
  },
  "language_info": {
   "codemirror_mode": {
    "name": "ipython",
    "version": 3
   },
   "file_extension": ".py",
   "mimetype": "text/x-python",
   "name": "python",
   "nbconvert_exporter": "python",
   "pygments_lexer": "ipython3",
   "version": "3.11.4"
  }
 },
 "nbformat": 4,
 "nbformat_minor": 5
}
